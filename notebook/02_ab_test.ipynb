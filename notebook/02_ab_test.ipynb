{
 "cells": [
  {
   "cell_type": "markdown",
   "id": "02492187-74b9-4f5c-9a46-e6ea9ca46251",
   "metadata": {},
   "source": [
    "# A/B Test Analysis"
   ]
  },
  {
   "cell_type": "markdown",
   "id": "d549c89d-eb46-41b4-b2d4-9e6c55d98f81",
   "metadata": {},
   "source": [
    "In this notebook, we analyze the impact of different first-order discount levels (0%, 10%, 20%, 30%) on new user GMV (Gross Merchandise Value). Using the prepared first-order dataset, we conduct statistical tests to evaluate whether increasing discount levels lead to significant GMV uplift. The analysis focuses only on successfully delivered first orders, as these generate real revenue."
   ]
  },
  {
   "cell_type": "markdown",
   "id": "e368df1f-44cb-4908-9028-28853ce1c369",
   "metadata": {},
   "source": [
    "## Load Data"
   ]
  },
  {
   "cell_type": "code",
   "execution_count": 5,
   "id": "51b4c4c5-443b-43b3-a589-8d3295d51f1e",
   "metadata": {},
   "outputs": [
    {
     "data": {
      "text/html": [
       "<div>\n",
       "<style scoped>\n",
       "    .dataframe tbody tr th:only-of-type {\n",
       "        vertical-align: middle;\n",
       "    }\n",
       "\n",
       "    .dataframe tbody tr th {\n",
       "        vertical-align: top;\n",
       "    }\n",
       "\n",
       "    .dataframe thead th {\n",
       "        text-align: right;\n",
       "    }\n",
       "</style>\n",
       "<table border=\"1\" class=\"dataframe\">\n",
       "  <thead>\n",
       "    <tr style=\"text-align: right;\">\n",
       "      <th></th>\n",
       "      <th>Restaurant ID</th>\n",
       "      <th>Restaurant name</th>\n",
       "      <th>Subzone</th>\n",
       "      <th>City</th>\n",
       "      <th>Order ID</th>\n",
       "      <th>Order Placed At</th>\n",
       "      <th>Order Status</th>\n",
       "      <th>Delivery</th>\n",
       "      <th>Distance</th>\n",
       "      <th>Items in order</th>\n",
       "      <th>...</th>\n",
       "      <th>Restaurant compensation (Cancellation)</th>\n",
       "      <th>Restaurant penalty (Rejection)</th>\n",
       "      <th>KPT duration (minutes)</th>\n",
       "      <th>Rider wait time (minutes)</th>\n",
       "      <th>Order Ready Marked</th>\n",
       "      <th>Customer complaint tag</th>\n",
       "      <th>Customer ID</th>\n",
       "      <th>order_num</th>\n",
       "      <th>group</th>\n",
       "      <th>group_label</th>\n",
       "    </tr>\n",
       "  </thead>\n",
       "  <tbody>\n",
       "    <tr>\n",
       "      <th>0</th>\n",
       "      <td>20882652</td>\n",
       "      <td>Aura Pizzas</td>\n",
       "      <td>DLF Phase 1</td>\n",
       "      <td>Delhi NCR</td>\n",
       "      <td>6149741531</td>\n",
       "      <td>2024-09-03 21:41:00</td>\n",
       "      <td>Delivered</td>\n",
       "      <td>Zomato Delivery</td>\n",
       "      <td>5km</td>\n",
       "      <td>1 x Murgh Amritsari Seekh Pide, 1 x Indian Mas...</td>\n",
       "      <td>...</td>\n",
       "      <td>NaN</td>\n",
       "      <td>NaN</td>\n",
       "      <td>16.62</td>\n",
       "      <td>4.4</td>\n",
       "      <td>Correctly</td>\n",
       "      <td>NaN</td>\n",
       "      <td>000285ae83ecf06a92b936d4f5b74342edb0e1940e1f00...</td>\n",
       "      <td>1</td>\n",
       "      <td>C</td>\n",
       "      <td>20%</td>\n",
       "    </tr>\n",
       "    <tr>\n",
       "      <th>1</th>\n",
       "      <td>21173951</td>\n",
       "      <td>Aura Pizzas</td>\n",
       "      <td>Vasant Kunj</td>\n",
       "      <td>Delhi NCR</td>\n",
       "      <td>6160981259</td>\n",
       "      <td>2024-09-08 17:43:00</td>\n",
       "      <td>Rejected</td>\n",
       "      <td>Zomato Delivery</td>\n",
       "      <td>2km</td>\n",
       "      <td>1 x Bageecha Pizza</td>\n",
       "      <td>...</td>\n",
       "      <td>451.33</td>\n",
       "      <td>NaN</td>\n",
       "      <td>14.28</td>\n",
       "      <td>3.9</td>\n",
       "      <td>Incorrectly</td>\n",
       "      <td>NaN</td>\n",
       "      <td>00062fa202370fdd3076b794ec9358f36e35469bb8e5ff...</td>\n",
       "      <td>1</td>\n",
       "      <td>D</td>\n",
       "      <td>30%</td>\n",
       "    </tr>\n",
       "    <tr>\n",
       "      <th>2</th>\n",
       "      <td>20882652</td>\n",
       "      <td>Aura Pizzas</td>\n",
       "      <td>DLF Phase 1</td>\n",
       "      <td>Delhi NCR</td>\n",
       "      <td>6511045577</td>\n",
       "      <td>2025-01-10 01:38:00</td>\n",
       "      <td>Delivered</td>\n",
       "      <td>Zomato Delivery</td>\n",
       "      <td>3km</td>\n",
       "      <td>1 x Tripple Cheese Pizza, 1 x Masala Potato Pi...</td>\n",
       "      <td>...</td>\n",
       "      <td>NaN</td>\n",
       "      <td>NaN</td>\n",
       "      <td>14.63</td>\n",
       "      <td>6.1</td>\n",
       "      <td>Correctly</td>\n",
       "      <td>NaN</td>\n",
       "      <td>001ab5fc3ee158b4d22e106897cee9b355e6eed50f163e...</td>\n",
       "      <td>1</td>\n",
       "      <td>A</td>\n",
       "      <td>0%</td>\n",
       "    </tr>\n",
       "    <tr>\n",
       "      <th>3</th>\n",
       "      <td>20882652</td>\n",
       "      <td>Aura Pizzas</td>\n",
       "      <td>DLF Phase 1</td>\n",
       "      <td>Delhi NCR</td>\n",
       "      <td>6432202507</td>\n",
       "      <td>2024-12-13 22:26:00</td>\n",
       "      <td>Delivered</td>\n",
       "      <td>Zomato Delivery</td>\n",
       "      <td>2km</td>\n",
       "      <td>1 x Murgh Amritsari Seekh Pizza, 1 x Makhani P...</td>\n",
       "      <td>...</td>\n",
       "      <td>NaN</td>\n",
       "      <td>NaN</td>\n",
       "      <td>29.47</td>\n",
       "      <td>2.9</td>\n",
       "      <td>Correctly</td>\n",
       "      <td>NaN</td>\n",
       "      <td>001fdf2511dd137361424c9c15ea54774476691ceec5fa...</td>\n",
       "      <td>1</td>\n",
       "      <td>C</td>\n",
       "      <td>20%</td>\n",
       "    </tr>\n",
       "    <tr>\n",
       "      <th>4</th>\n",
       "      <td>20659868</td>\n",
       "      <td>Aura Pizzas</td>\n",
       "      <td>Sector 4</td>\n",
       "      <td>Delhi NCR</td>\n",
       "      <td>6240870348</td>\n",
       "      <td>2024-10-11 18:50:00</td>\n",
       "      <td>Delivered</td>\n",
       "      <td>Zomato Delivery</td>\n",
       "      <td>7km</td>\n",
       "      <td>1 x All About Chicken Pizza</td>\n",
       "      <td>...</td>\n",
       "      <td>NaN</td>\n",
       "      <td>NaN</td>\n",
       "      <td>16.27</td>\n",
       "      <td>3.0</td>\n",
       "      <td>Correctly</td>\n",
       "      <td>NaN</td>\n",
       "      <td>002afbd83626f0c699892fcb07b2ddf3858911482647b6...</td>\n",
       "      <td>1</td>\n",
       "      <td>C</td>\n",
       "      <td>20%</td>\n",
       "    </tr>\n",
       "  </tbody>\n",
       "</table>\n",
       "<p>5 rows × 32 columns</p>\n",
       "</div>"
      ],
      "text/plain": [
       "   Restaurant ID Restaurant name      Subzone       City    Order ID  \\\n",
       "0       20882652     Aura Pizzas  DLF Phase 1  Delhi NCR  6149741531   \n",
       "1       21173951     Aura Pizzas  Vasant Kunj  Delhi NCR  6160981259   \n",
       "2       20882652     Aura Pizzas  DLF Phase 1  Delhi NCR  6511045577   \n",
       "3       20882652     Aura Pizzas  DLF Phase 1  Delhi NCR  6432202507   \n",
       "4       20659868     Aura Pizzas     Sector 4  Delhi NCR  6240870348   \n",
       "\n",
       "       Order Placed At Order Status         Delivery Distance  \\\n",
       "0  2024-09-03 21:41:00    Delivered  Zomato Delivery      5km   \n",
       "1  2024-09-08 17:43:00     Rejected  Zomato Delivery      2km   \n",
       "2  2025-01-10 01:38:00    Delivered  Zomato Delivery      3km   \n",
       "3  2024-12-13 22:26:00    Delivered  Zomato Delivery      2km   \n",
       "4  2024-10-11 18:50:00    Delivered  Zomato Delivery      7km   \n",
       "\n",
       "                                      Items in order  ...  \\\n",
       "0  1 x Murgh Amritsari Seekh Pide, 1 x Indian Mas...  ...   \n",
       "1                                 1 x Bageecha Pizza  ...   \n",
       "2  1 x Tripple Cheese Pizza, 1 x Masala Potato Pi...  ...   \n",
       "3  1 x Murgh Amritsari Seekh Pizza, 1 x Makhani P...  ...   \n",
       "4                        1 x All About Chicken Pizza  ...   \n",
       "\n",
       "  Restaurant compensation (Cancellation) Restaurant penalty (Rejection)  \\\n",
       "0                                    NaN                            NaN   \n",
       "1                                 451.33                            NaN   \n",
       "2                                    NaN                            NaN   \n",
       "3                                    NaN                            NaN   \n",
       "4                                    NaN                            NaN   \n",
       "\n",
       "   KPT duration (minutes)  Rider wait time (minutes)  Order Ready Marked  \\\n",
       "0                   16.62                        4.4           Correctly   \n",
       "1                   14.28                        3.9         Incorrectly   \n",
       "2                   14.63                        6.1           Correctly   \n",
       "3                   29.47                        2.9           Correctly   \n",
       "4                   16.27                        3.0           Correctly   \n",
       "\n",
       "   Customer complaint tag                                        Customer ID  \\\n",
       "0                     NaN  000285ae83ecf06a92b936d4f5b74342edb0e1940e1f00...   \n",
       "1                     NaN  00062fa202370fdd3076b794ec9358f36e35469bb8e5ff...   \n",
       "2                     NaN  001ab5fc3ee158b4d22e106897cee9b355e6eed50f163e...   \n",
       "3                     NaN  001fdf2511dd137361424c9c15ea54774476691ceec5fa...   \n",
       "4                     NaN  002afbd83626f0c699892fcb07b2ddf3858911482647b6...   \n",
       "\n",
       "   order_num  group  group_label  \n",
       "0          1      C          20%  \n",
       "1          1      D          30%  \n",
       "2          1      A           0%  \n",
       "3          1      C          20%  \n",
       "4          1      C          20%  \n",
       "\n",
       "[5 rows x 32 columns]"
      ]
     },
     "execution_count": 5,
     "metadata": {},
     "output_type": "execute_result"
    }
   ],
   "source": [
    "import pandas as pd\n",
    "import numpy as np\n",
    "import matplotlib.pyplot as plt\n",
    "import seaborn as sns\n",
    "from scipy.stats import ttest_ind\n",
    "from statsmodels.stats.proportion import proportions_ztest\n",
    "\n",
    "# Load prepared first-order data\n",
    "df_first = pd.read_csv('/Users/Cathaml/Desktop/first_orders_with_group.csv')\n",
    "\n",
    "# Quick check\n",
    "df_first.head()"
   ]
  },
  {
   "cell_type": "markdown",
   "id": "3a7d36b9-5590-4ab8-81e3-fcb016c2f337",
   "metadata": {},
   "source": [
    "## Filter Delivered Orders Only\n",
    "Only successfully delivered orders are included in the analysis, as rejected or cancelled orders do not contribute to revenue."
   ]
  },
  {
   "cell_type": "code",
   "execution_count": 6,
   "id": "ba59dc12-a33a-4990-a7ce-ebb47e8a33c0",
   "metadata": {},
   "outputs": [
    {
     "name": "stdout",
     "output_type": "stream",
     "text": [
      "Delivered first orders: 11497\n"
     ]
    },
    {
     "data": {
      "text/plain": [
       "Order Status\n",
       "Delivered    11497\n",
       "Name: count, dtype: int64"
      ]
     },
     "execution_count": 6,
     "metadata": {},
     "output_type": "execute_result"
    }
   ],
   "source": [
    "# Keep only delivered first orders\n",
    "df_first = df_first[df_first['Order Status'] == 'Delivered'].copy()\n",
    "\n",
    "# Confirm remaining orders\n",
    "print(f\"Delivered first orders: {df_first.shape[0]}\")\n",
    "df_first['Order Status'].value_counts()"
   ]
  },
  {
   "cell_type": "markdown",
   "id": "463d270e-eaa9-48c0-98b5-2281d3f0cbd4",
   "metadata": {},
   "source": [
    "## Group Size Check\n",
    "The first step is to confirm that the simulated discount groups are balanced, to ensure the validity of our comparisons"
   ]
  },
  {
   "cell_type": "code",
   "execution_count": 7,
   "id": "34b4c064-1545-47ab-84ad-0270c0c36dfb",
   "metadata": {},
   "outputs": [
    {
     "data": {
      "image/png": "[encoded data removed]",
      "text/plain": [
       "<Figure size 640x480 with 1 Axes>"
      ]
     },
     "metadata": {},
     "output_type": "display_data"
    },
    {
     "data": {
      "text/html": [
       "<div>\n",
       "<style scoped>\n",
       "    .dataframe tbody tr th:only-of-type {\n",
       "        vertical-align: middle;\n",
       "    }\n",
       "\n",
       "    .dataframe tbody tr th {\n",
       "        vertical-align: top;\n",
       "    }\n",
       "\n",
       "    .dataframe thead th {\n",
       "        text-align: right;\n",
       "    }\n",
       "</style>\n",
       "<table border=\"1\" class=\"dataframe\">\n",
       "  <thead>\n",
       "    <tr style=\"text-align: right;\">\n",
       "      <th></th>\n",
       "      <th>count</th>\n",
       "      <th>mean</th>\n",
       "      <th>std</th>\n",
       "    </tr>\n",
       "    <tr>\n",
       "      <th>group_label</th>\n",
       "      <th></th>\n",
       "      <th></th>\n",
       "      <th></th>\n",
       "    </tr>\n",
       "  </thead>\n",
       "  <tbody>\n",
       "    <tr>\n",
       "      <th>0%</th>\n",
       "      <td>2918</td>\n",
       "      <td>690.779236</td>\n",
       "      <td>496.271013</td>\n",
       "    </tr>\n",
       "    <tr>\n",
       "      <th>10%</th>\n",
       "      <td>2881</td>\n",
       "      <td>709.217352</td>\n",
       "      <td>541.611138</td>\n",
       "    </tr>\n",
       "    <tr>\n",
       "      <th>20%</th>\n",
       "      <td>2831</td>\n",
       "      <td>686.849792</td>\n",
       "      <td>452.963476</td>\n",
       "    </tr>\n",
       "    <tr>\n",
       "      <th>30%</th>\n",
       "      <td>2867</td>\n",
       "      <td>675.069348</td>\n",
       "      <td>429.313623</td>\n",
       "    </tr>\n",
       "  </tbody>\n",
       "</table>\n",
       "</div>"
      ],
      "text/plain": [
       "             count        mean         std\n",
       "group_label                               \n",
       "0%            2918  690.779236  496.271013\n",
       "10%           2881  709.217352  541.611138\n",
       "20%           2831  686.849792  452.963476\n",
       "30%           2867  675.069348  429.313623"
      ]
     },
     "execution_count": 7,
     "metadata": {},
     "output_type": "execute_result"
    }
   ],
   "source": [
    "# Customers per group\n",
    "group_counts = df_first['group_label'].value_counts()\n",
    "group_counts.plot(kind='bar', title='Number of Delivered Customers per Group', ylabel='Count', xlabel='Group')\n",
    "plt.show()\n",
    "\n",
    "# Summary stats\n",
    "df_first.groupby('group_label')['Total'].agg(['count', 'mean', 'std'])"
   ]
  },
  {
   "cell_type": "markdown",
   "id": "7f0c69bb-1146-4810-81be-7f6d8def609c",
   "metadata": {},
   "source": [
    "Groups are well balanced, with ~2800-2900 users per group. Average GMV per group is similar."
   ]
  },
  {
   "cell_type": "markdown",
   "id": "8f1d41b3-209a-4da8-899f-dd8bfd276119",
   "metadata": {},
   "source": [
    "## GMV Distribution Visualization\n",
    "The distribution of first order GMV (Total) by discount group is shown below:"
   ]
  },
  {
   "cell_type": "code",
   "execution_count": 8,
   "id": "f1c3d7f0-a733-467b-9ea0-f8e55c63d430",
   "metadata": {},
   "outputs": [
    {
     "data": {
      "image/png": "[encoded data removed]",
      "text/plain": [
       "<Figure size 800x600 with 1 Axes>"
      ]
     },
     "metadata": {},
     "output_type": "display_data"
    }
   ],
   "source": [
    "# GMV boxplot by group\n",
    "plt.figure(figsize=(8,6))\n",
    "sns.boxplot(x='group_label', y='Total', data=df_first)\n",
    "plt.title('First Order GMV by Discount Group (Delivered Orders)')\n",
    "plt.ylabel('GMV (Total)')\n",
    "plt.xlabel('Discount Group')\n",
    "plt.show()"
   ]
  },
  {
   "cell_type": "markdown",
   "id": "14f66d4f-44ba-424f-8d88-975e808b0772",
   "metadata": {},
   "source": [
    "The distributions show similar medians across groups, with some natural high-value outliers."
   ]
  },
  {
   "cell_type": "markdown",
   "id": "ecf88ebe-662e-45c7-bdfa-983b31228f6a",
   "metadata": {},
   "source": [
    "## Statistical Tests — t-tests (pairwise)\n",
    "We conduct pairwise independent t-tests to compare GMV between groups. Our null hypothesis is that there is no difference in GMV between groups."
   ]
  },
  {
   "cell_type": "code",
   "execution_count": 11,
   "id": "0f7515e2-7b34-40f3-abfe-011fd0b5c62d",
   "metadata": {},
   "outputs": [
    {
     "name": "stdout",
     "output_type": "stream",
     "text": [
      "0% vs 10% t-test p-value: 0.1765\n",
      "0% vs 20% t-test p-value: 0.7541\n",
      "0% vs 30% t-test p-value: 0.1982\n",
      "10% vs 20% t-test p-value: 0.0908\n",
      "10% vs 30% t-test p-value: 0.0081\n",
      "30% vs 40% t-test p-value: 0.3136\n"
     ]
    }
   ],
   "source": [
    "# Prepare groups\n",
    "group_a = df_first[df_first['group_label'] == '0%']['Total']\n",
    "group_b = df_first[df_first['group_label'] == '10%']['Total']\n",
    "group_c = df_first[df_first['group_label'] == '20%']['Total']\n",
    "group_d = df_first[df_first['group_label'] == '30%']['Total']\n",
    "\n",
    "# Run t-tests\n",
    "t_stat, p_val = ttest_ind(group_a, group_b)\n",
    "print(f\"0% vs 10% t-test p-value: {p_val:.4f}\")\n",
    "t_stat, p_val = ttest_ind(group_a, group_c)\n",
    "print(f\"0% vs 20% t-test p-value: {p_val:.4f}\")\n",
    "t_stat, p_val = ttest_ind(group_a, group_d)\n",
    "print(f\"0% vs 30% t-test p-value: {p_val:.4f}\")\n",
    "\n",
    "t_stat, p_val = ttest_ind(group_b, group_c)\n",
    "print(f\"10% vs 20% t-test p-value: {p_val:.4f}\")\n",
    "t_stat, p_val = ttest_ind(group_b, group_d)\n",
    "print(f\"10% vs 30% t-test p-value: {p_val:.4f}\")\n",
    "\n",
    "t_stat, p_val = ttest_ind(group_c, group_d)\n",
    "print(f\"20% vs 30% t-test p-value: {p_val:.4f}\")"
   ]
  },
  {
   "cell_type": "markdown",
   "id": "421d61dc-8735-43d0-90f3-f9a6a7eb4334",
   "metadata": {},
   "source": [
    "No significant difference between 0% vs 10%, 20%, or 30% (all p > 0.05).\n",
    "\n",
    "A small significant difference between 10% vs 30% (p = 0.0081).\n",
    "\n",
    "Other comparisons not significant."
   ]
  },
  {
   "cell_type": "markdown",
   "id": "46a1045e-5475-4b4f-87e0-1bb923654506",
   "metadata": {},
   "source": [
    "## GMV Uplift Calculation\n",
    "We calculate the percentage uplift in mean GMV compared to the 0% control group."
   ]
  },
  {
   "cell_type": "code",
   "execution_count": 12,
   "id": "bac27903-47c0-4235-acc9-e2f11f8fe628",
   "metadata": {},
   "outputs": [
    {
     "data": {
      "text/plain": [
       "group_label\n",
       "0%     0.000000\n",
       "10%    2.669176\n",
       "20%   -0.568842\n",
       "30%   -2.274227\n",
       "Name: Total, dtype: float64"
      ]
     },
     "execution_count": 12,
     "metadata": {},
     "output_type": "execute_result"
    }
   ],
   "source": [
    "# Mean GMV per group\n",
    "gmv_mean = df_first.groupby('group_label')['Total'].mean()\n",
    "\n",
    "# Uplift vs 0%\n",
    "uplift_vs_control = (gmv_mean - gmv_mean['0%']) / gmv_mean['0%'] * 100\n",
    "uplift_vs_control"
   ]
  },
  {
   "cell_type": "markdown",
   "id": "5287c270-4881-41a3-82d4-ed684ecfd59d",
   "metadata": {},
   "source": [
    "## Uplift Visualization\n",
    "The following barplot summarizes GMV uplift by discount level:"
   ]
  },
  {
   "cell_type": "code",
   "execution_count": 13,
   "id": "15440889-47be-48c0-8fce-7105fde389c4",
   "metadata": {},
   "outputs": [
    {
     "data": {
      "image/png": "[encoded data removed]",
      "text/plain": [
       "<Figure size 640x480 with 1 Axes>"
      ]
     },
     "metadata": {},
     "output_type": "display_data"
    }
   ],
   "source": [
    "uplift_vs_control.plot(kind='bar', color='green', title='GMV Uplift vs 0% Control', ylabel='Uplift (%)', xlabel='Group')\n",
    "plt.axhline(0, color='black', linestyle='--')\n",
    "plt.show()"
   ]
  },
  {
   "cell_type": "markdown",
   "id": "cec4d52d-e96d-4971-b989-b3a64cd83a65",
   "metadata": {},
   "source": [
    "## Results Summary\n",
    "Overall, the A/B test simulation did not show a statistically significant GMV uplift for higher discount levels. The 10% discount produced a small positive uplift (+2.67%) but was not statistically significant (p = 0.1765). Both 20% and 30% discounts resulted in negative GMV uplift.\n",
    "\n",
    "The evidence suggests that offering very large discounts (20-30%) does not improve first order GMV, and may even reduce it. The 10% discount appears to be an optimal balance between promotion and profitability."
   ]
  },
  {
   "cell_type": "markdown",
   "id": "af43ad2e-cb3a-464f-9ae2-768b3d483956",
   "metadata": {},
   "source": [
    "## Save Results"
   ]
  },
  {
   "cell_type": "code",
   "execution_count": 15,
   "id": "05e4c9af-c6d6-4dfa-820a-2a540e292a00",
   "metadata": {},
   "outputs": [],
   "source": [
    "uplift_vs_control.to_csv('/Users/Cathaml/Desktop/gmv_uplift_summary.csv')"
   ]
  }
 ],
 "metadata": {
  "kernelspec": {
   "display_name": "Python 3 (ipykernel)",
   "language": "python",
   "name": "python3"
  },
  "language_info": {
   "codemirror_mode": {
    "name": "ipython",
    "version": 3
   },
   "file_extension": ".py",
   "mimetype": "text/x-python",
   "name": "python",
   "nbconvert_exporter": "python",
   "pygments_lexer": "ipython3",
   "version": "3.9.12"
  }
 },
 "nbformat": 4,
 "nbformat_minor": 5
}
